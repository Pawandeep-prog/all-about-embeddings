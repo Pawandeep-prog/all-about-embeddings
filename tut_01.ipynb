{
 "cells": [
  {
   "cell_type": "code",
   "execution_count": 2,
   "metadata": {},
   "outputs": [],
   "source": [
    "products = [\n",
    "    \"latest samsung s22 ultra 5G mobile for just 69999 rupees\",\n",
    "    \"apple watch series 7 available just for 56999 INR\",\n",
    "    \"jbl earphones with ultra bass for 10999\",\n",
    "    \"apple air pods available with surround voice for 39999\",\n",
    "    \"ivoo phone multimedia keypad phone for 5600\"\n",
    "]"
   ]
  },
  {
   "cell_type": "code",
   "execution_count": 3,
   "metadata": {},
   "outputs": [
    {
     "name": "stderr",
     "output_type": "stream",
     "text": [
      "/Users/pawandeepsingh/miniforge3/lib/python3.9/site-packages/tqdm/auto.py:21: TqdmWarning: IProgress not found. Please update jupyter and ipywidgets. See https://ipywidgets.readthedocs.io/en/stable/user_install.html\n",
      "  from .autonotebook import tqdm as notebook_tqdm\n"
     ]
    }
   ],
   "source": [
    "from sentence_transformers import SentenceTransformer\n",
    "from sentence_transformers import util\n",
    "import numpy as np"
   ]
  },
  {
   "cell_type": "code",
   "execution_count": 4,
   "metadata": {},
   "outputs": [],
   "source": [
    "model = SentenceTransformer('all-MiniLM-L6-v2')"
   ]
  },
  {
   "cell_type": "code",
   "execution_count": 5,
   "metadata": {},
   "outputs": [
    {
     "name": "stdout",
     "output_type": "stream",
     "text": [
      "(5, 384)\n"
     ]
    }
   ],
   "source": [
    "product_embeddings = []\n",
    "for product in products:\n",
    "    product_embeddings.append(model.encode(product))\n",
    "\n",
    "product_embeddings = np.array(product_embeddings)\n",
    "print(product_embeddings.shape)"
   ]
  },
  {
   "cell_type": "code",
   "execution_count": 17,
   "metadata": {},
   "outputs": [],
   "source": [
    "user_query = \"ear phones\""
   ]
  },
  {
   "cell_type": "code",
   "execution_count": 18,
   "metadata": {},
   "outputs": [],
   "source": [
    "query_embedding = model.encode(user_query)"
   ]
  },
  {
   "cell_type": "code",
   "execution_count": 19,
   "metadata": {},
   "outputs": [
    {
     "name": "stdout",
     "output_type": "stream",
     "text": [
      "[0.21496809 0.07833403 0.3976351  0.29132727 0.28615707]\n",
      "[2 3 4 0 1]\n"
     ]
    }
   ],
   "source": [
    "result = util.cos_sim(query_embedding, product_embeddings)[0].numpy()\n",
    "print(result)\n",
    "result_sort = np.argsort(-result)\n",
    "print(result_sort)"
   ]
  },
  {
   "cell_type": "code",
   "execution_count": 20,
   "metadata": {},
   "outputs": [
    {
     "name": "stdout",
     "output_type": "stream",
     "text": [
      "0.3976351  --->  jbl earphones with ultra bass for 10999\n",
      "0.29132727  --->  apple air pods available with surround voice for 39999\n",
      "0.28615707  --->  ivoo phone multimedia keypad phone for 5600\n",
      "0.21496809  --->  latest samsung s22 ultra 5G mobile for just 69999 rupees\n",
      "0.07833403  --->  apple watch series 7 available just for 56999 INR\n"
     ]
    }
   ],
   "source": [
    "for idx in result_sort:\n",
    "    print(result[idx], \" ---> \", products[idx])"
   ]
  },
  {
   "cell_type": "code",
   "execution_count": null,
   "metadata": {},
   "outputs": [],
   "source": []
  }
 ],
 "metadata": {
  "kernelspec": {
   "display_name": "base",
   "language": "python",
   "name": "python3"
  },
  "language_info": {
   "codemirror_mode": {
    "name": "ipython",
    "version": 3
   },
   "file_extension": ".py",
   "mimetype": "text/x-python",
   "name": "python",
   "nbconvert_exporter": "python",
   "pygments_lexer": "ipython3",
   "version": "3.9.16"
  },
  "orig_nbformat": 4
 },
 "nbformat": 4,
 "nbformat_minor": 2
}
